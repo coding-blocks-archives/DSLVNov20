{
 "cells": [
  {
   "cell_type": "code",
   "execution_count": 1,
   "metadata": {},
   "outputs": [],
   "source": [
    "import matplotlib.pyplot as plt\n",
    "import pandas as pd\n",
    "import numpy as np"
   ]
  },
  {
   "cell_type": "code",
   "execution_count": 2,
   "metadata": {},
   "outputs": [],
   "source": [
    "apple_df = pd.read_csv(\"aapl.csv\")"
   ]
  },
  {
   "cell_type": "code",
   "execution_count": 5,
   "metadata": {},
   "outputs": [],
   "source": [
    "apple_high_values = apple_df['High'].values"
   ]
  },
  {
   "cell_type": "code",
   "execution_count": 6,
   "metadata": {},
   "outputs": [
    {
     "data": {
      "text/plain": [
       "[<matplotlib.lines.Line2D at 0x11f92cd10>]"
      ]
     },
     "execution_count": 6,
     "metadata": {},
     "output_type": "execute_result"
    },
    {
     "data": {
      "image/png": "[encoded data removed]",
      "text/plain": [
       "<Figure size 432x288 with 1 Axes>"
      ]
     },
     "metadata": {
      "needs_background": "light"
     },
     "output_type": "display_data"
    }
   ],
   "source": [
    "plt.plot(apple_high_values)"
   ]
  },
  {
   "cell_type": "code",
   "execution_count": null,
   "metadata": {},
   "outputs": [],
   "source": []
  },
  {
   "cell_type": "code",
   "execution_count": 8,
   "metadata": {},
   "outputs": [
    {
     "name": "stdout",
     "output_type": "stream",
     "text": [
      "183.5\n",
      "93.769997\n"
     ]
    }
   ],
   "source": [
    "print(apple_high_values.max())\n",
    "print(apple_high_values.min())"
   ]
  },
  {
   "cell_type": "code",
   "execution_count": 17,
   "metadata": {},
   "outputs": [],
   "source": [
    "from sklearn.preprocessing import MinMaxScaler"
   ]
  },
  {
   "cell_type": "code",
   "execution_count": 18,
   "metadata": {},
   "outputs": [],
   "source": [
    "scaler = MinMaxScaler()"
   ]
  },
  {
   "cell_type": "code",
   "execution_count": 22,
   "metadata": {},
   "outputs": [],
   "source": [
    "apple_high = scaler.fit_transform(apple_high_values.reshape(-1,1))"
   ]
  },
  {
   "cell_type": "code",
   "execution_count": 25,
   "metadata": {},
   "outputs": [
    {
     "name": "stdout",
     "output_type": "stream",
     "text": [
      "1.0\n",
      "0.0\n"
     ]
    }
   ],
   "source": [
    "print(apple_high.max())\n",
    "print(apple_high.min())"
   ]
  },
  {
   "cell_type": "code",
   "execution_count": 26,
   "metadata": {},
   "outputs": [
    {
     "data": {
      "text/plain": [
       "array([[0.0771203 ],\n",
       "       [0.09595453],\n",
       "       [0.08926782],\n",
       "       [0.13061407],\n",
       "       [0.15903269],\n",
       "       [0.18421939],\n",
       "       [0.22757165],\n",
       "       [0.26524019],\n",
       "       [0.2895353 ],\n",
       "       [0.28396302],\n",
       "       [0.23492701],\n",
       "       [0.21698429],\n",
       "       [0.2312493 ],\n",
       "       [0.23403543],\n",
       "       [0.21709576],\n",
       "       [0.21208075],\n",
       "       [0.22266803],\n",
       "       [0.29232143],\n",
       "       [0.29800517],\n",
       "       [0.37568266],\n",
       "       [0.3981946 ],\n",
       "       [0.4438873 ],\n",
       "       [0.40688734],\n",
       "       [0.3989748 ],\n",
       "       [0.39540847],\n",
       "       [0.38192349],\n",
       "       [0.3646495 ],\n",
       "       [0.38281508],\n",
       "       [0.38783026],\n",
       "       [0.41078799],\n",
       "       [0.45436303],\n",
       "       [0.41011934],\n",
       "       [0.39808321],\n",
       "       [0.43686618],\n",
       "       [0.43619754],\n",
       "       [0.41925778],\n",
       "       [0.40577282],\n",
       "       [0.38493257],\n",
       "       [0.401538  ],\n",
       "       [0.36966459],\n",
       "       [0.36175198],\n",
       "       [0.39953189],\n",
       "       [0.43686618],\n",
       "       [0.33589665],\n",
       "       [0.32096291],\n",
       "       [0.29220996],\n",
       "       [0.26613178],\n",
       "       [0.21776441],\n",
       "       [0.23136076],\n",
       "       [0.22779451],\n",
       "       [0.25766189],\n",
       "       [0.25543301],\n",
       "       [0.23180656],\n",
       "       [0.20628554],\n",
       "       [0.21152349],\n",
       "       [0.28374017],\n",
       "       [0.30591779],\n",
       "       [0.33489359],\n",
       "       [0.31249304],\n",
       "       [0.29142985],\n",
       "       [0.28931244],\n",
       "       [0.2857462 ],\n",
       "       [0.29076121],\n",
       "       [0.21208075],\n",
       "       [0.16973144],\n",
       "       [0.1745236 ],\n",
       "       [0.13462611],\n",
       "       [0.08269257],\n",
       "       [0.08570157],\n",
       "       [0.08648169],\n",
       "       [0.03967463],\n",
       "       [0.02875294],\n",
       "       [0.05706009],\n",
       "       [0.04736431],\n",
       "       [0.11122259],\n",
       "       [0.10096963],\n",
       "       [0.14187008],\n",
       "       [0.15468633],\n",
       "       [0.18555667],\n",
       "       [0.20528256],\n",
       "       [0.20751144],\n",
       "       [0.16917418],\n",
       "       [0.13239724],\n",
       "       [0.02373794],\n",
       "       [0.        ],\n",
       "       [0.01849998],\n",
       "       [0.0775661 ],\n",
       "       [0.07388838],\n",
       "       [0.09049372],\n",
       "       [0.05962338],\n",
       "       [0.034771  ],\n",
       "       [0.03009031],\n",
       "       [0.034771  ],\n",
       "       [0.0616294 ],\n",
       "       [0.08057509],\n",
       "       [0.12013826],\n",
       "       [0.15468633],\n",
       "       [0.16906279],\n",
       "       [0.18343927],\n",
       "       [0.1732977 ],\n",
       "       [0.1585869 ],\n",
       "       [0.16705678],\n",
       "       [0.24919201],\n",
       "       [0.24974927],\n",
       "       [0.23258666],\n",
       "       [0.23169509],\n",
       "       [0.2777221 ],\n",
       "       [0.27237269],\n",
       "       [0.27404439],\n",
       "       [0.22801744],\n",
       "       [0.20004462],\n",
       "       [0.18689405],\n",
       "       [0.20784576],\n",
       "       [0.20840302],\n",
       "       [0.23325531],\n",
       "       [0.25587881],\n",
       "       [0.26446007],\n",
       "       [0.2702552 ],\n",
       "       [0.27181552],\n",
       "       [0.29154131],\n",
       "       [0.2978937 ],\n",
       "       [0.31951414],\n",
       "       [0.40922776],\n",
       "       [0.43653186],\n",
       "       [0.47364321],\n",
       "       [0.48712802],\n",
       "       [0.51833278],\n",
       "       [0.51498938],\n",
       "       [0.5265798 ],\n",
       "       [0.54641708],\n",
       "       [0.56536277],\n",
       "       [0.57606161],\n",
       "       [0.55845321],\n",
       "       [0.54775437],\n",
       "       [0.56982052],\n",
       "       [0.61529028],\n",
       "       [0.69820572],\n",
       "       [0.70076892],\n",
       "       [0.68126596],\n",
       "       [0.6873955 ],\n",
       "       [0.69330209],\n",
       "       [0.5987964 ],\n",
       "       [0.5950073 ],\n",
       "       [0.60748914],\n",
       "       [0.57427844],\n",
       "       [0.61919094],\n",
       "       [0.64604933],\n",
       "       [0.67112455],\n",
       "       [0.73531707],\n",
       "       [0.75849775],\n",
       "       [0.76607596],\n",
       "       [0.74635023],\n",
       "       [0.79315728],\n",
       "       [0.78546752],\n",
       "       [0.78223568],\n",
       "       [0.74367548],\n",
       "       [0.67926002],\n",
       "       [0.68784137],\n",
       "       [0.71581412],\n",
       "       [0.74779891],\n",
       "       [0.77822363],\n",
       "       [0.89702435],\n",
       "       [0.91909066],\n",
       "       [0.8996991 ],\n",
       "       [0.91084365],\n",
       "       [0.90616296],\n",
       "       [0.8787473 ],\n",
       "       [0.89602138],\n",
       "       [0.92978934],\n",
       "       [0.87016612],\n",
       "       [0.9093948 ],\n",
       "       [0.93157251],\n",
       "       [0.96210862],\n",
       "       [0.95475317],\n",
       "       [0.85133182],\n",
       "       [0.7813441 ],\n",
       "       [0.90326543],\n",
       "       [0.91251526],\n",
       "       [0.96790366],\n",
       "       [0.96099409],\n",
       "       [1.        ],\n",
       "       [0.93279841],\n",
       "       [0.90694299],\n",
       "       [0.8690516 ]])"
      ]
     },
     "execution_count": 26,
     "metadata": {},
     "output_type": "execute_result"
    }
   ],
   "source": [
    "apple_high"
   ]
  },
  {
   "cell_type": "code",
   "execution_count": 27,
   "metadata": {},
   "outputs": [
    {
     "data": {
      "text/plain": [
       "[<matplotlib.lines.Line2D at 0x1a22ff7350>]"
      ]
     },
     "execution_count": 27,
     "metadata": {},
     "output_type": "execute_result"
    },
    {
     "data": {
      "image/png": "[encoded data removed]",
      "text/plain": [
       "<Figure size 432x288 with 1 Axes>"
      ]
     },
     "metadata": {
      "needs_background": "light"
     },
     "output_type": "display_data"
    }
   ],
   "source": [
    "plt.plot(apple_high)"
   ]
  },
  {
   "cell_type": "code",
   "execution_count": 28,
   "metadata": {},
   "outputs": [],
   "source": [
    "from keras.preprocessing.sequence import TimeseriesGenerator"
   ]
  },
  {
   "cell_type": "code",
   "execution_count": 29,
   "metadata": {},
   "outputs": [],
   "source": [
    "my_gen = TimeseriesGenerator(apple_high, apple_high, length=5, batch_size=32)"
   ]
  },
  {
   "cell_type": "code",
   "execution_count": 30,
   "metadata": {},
   "outputs": [],
   "source": [
    "X, y = my_gen[0]"
   ]
  },
  {
   "cell_type": "code",
   "execution_count": 31,
   "metadata": {},
   "outputs": [
    {
     "data": {
      "text/plain": [
       "(32, 5, 1)"
      ]
     },
     "execution_count": 31,
     "metadata": {},
     "output_type": "execute_result"
    }
   ],
   "source": [
    "X.shape"
   ]
  },
  {
   "cell_type": "code",
   "execution_count": 32,
   "metadata": {},
   "outputs": [
    {
     "data": {
      "text/plain": [
       "(32, 1)"
      ]
     },
     "execution_count": 32,
     "metadata": {},
     "output_type": "execute_result"
    }
   ],
   "source": [
    "y.shape"
   ]
  },
  {
   "cell_type": "code",
   "execution_count": 39,
   "metadata": {},
   "outputs": [
    {
     "data": {
      "text/plain": [
       "(array([[0.09595453],\n",
       "        [0.08926782],\n",
       "        [0.13061407],\n",
       "        [0.15903269],\n",
       "        [0.18421939]]), array([0.22757165]))"
      ]
     },
     "execution_count": 39,
     "metadata": {},
     "output_type": "execute_result"
    }
   ],
   "source": [
    "X[1], y[1]"
   ]
  },
  {
   "cell_type": "code",
   "execution_count": 35,
   "metadata": {},
   "outputs": [],
   "source": [
    "from keras.layers import Input, LSTM, Dense\n",
    "from keras.models import Model"
   ]
  },
  {
   "cell_type": "code",
   "execution_count": 41,
   "metadata": {},
   "outputs": [],
   "source": [
    "inp_layer = Input(shape=(5,1))\n",
    "lstm_1 = LSTM(32, return_sequences=True)(inp_layer)\n",
    "lstm_2 = LSTM(64)(lstm_1)\n",
    "d1 = Dense(10, activation='relu')(lstm_2)\n",
    "out_layer = Dense(1, activation='linear')(d1)"
   ]
  },
  {
   "cell_type": "code",
   "execution_count": 42,
   "metadata": {},
   "outputs": [],
   "source": [
    "model = Model(inp_layer, out_layer)"
   ]
  },
  {
   "cell_type": "code",
   "execution_count": 43,
   "metadata": {},
   "outputs": [
    {
     "name": "stdout",
     "output_type": "stream",
     "text": [
      "_________________________________________________________________\n",
      "Layer (type)                 Output Shape              Param #   \n",
      "=================================================================\n",
      "input_2 (InputLayer)         (None, 5, 1)              0         \n",
      "_________________________________________________________________\n",
      "lstm_3 (LSTM)                (None, 5, 32)             4352      \n",
      "_________________________________________________________________\n",
      "lstm_4 (LSTM)                (None, 64)                24832     \n",
      "_________________________________________________________________\n",
      "dense_3 (Dense)              (None, 10)                650       \n",
      "_________________________________________________________________\n",
      "dense_4 (Dense)              (None, 1)                 11        \n",
      "=================================================================\n",
      "Total params: 29,845\n",
      "Trainable params: 29,845\n",
      "Non-trainable params: 0\n",
      "_________________________________________________________________\n"
     ]
    }
   ],
   "source": [
    "model.summary()"
   ]
  },
  {
   "cell_type": "code",
   "execution_count": 45,
   "metadata": {},
   "outputs": [],
   "source": [
    "model.compile(loss=\"mse\",  optimizer=\"adam\")"
   ]
  },
  {
   "cell_type": "code",
   "execution_count": 46,
   "metadata": {},
   "outputs": [
    {
     "name": "stdout",
     "output_type": "stream",
     "text": [
      "WARNING:tensorflow:From /Users/mohituniyal/opt/anaconda3/lib/python3.7/site-packages/tensorflow/python/ops/math_grad.py:1250: add_dispatch_support.<locals>.wrapper (from tensorflow.python.ops.array_ops) is deprecated and will be removed in a future version.\n",
      "Instructions for updating:\n",
      "Use tf.where in 2.0, which has the same broadcast rule as np.where\n",
      "WARNING:tensorflow:From /Users/mohituniyal/opt/anaconda3/lib/python3.7/site-packages/keras/backend/tensorflow_backend.py:986: The name tf.assign_add is deprecated. Please use tf.compat.v1.assign_add instead.\n",
      "\n",
      "WARNING:tensorflow:From /Users/mohituniyal/opt/anaconda3/lib/python3.7/site-packages/keras/backend/tensorflow_backend.py:973: The name tf.assign is deprecated. Please use tf.compat.v1.assign instead.\n",
      "\n",
      "Epoch 1/20\n",
      "10/10 [==============================] - 2s 224ms/step - loss: 0.2163\n",
      "Epoch 2/20\n",
      "10/10 [==============================] - 0s 27ms/step - loss: 0.2243\n",
      "Epoch 3/20\n",
      "10/10 [==============================] - 0s 30ms/step - loss: 0.0360\n",
      "Epoch 4/20\n",
      "10/10 [==============================] - 0s 27ms/step - loss: 0.0338\n",
      "Epoch 5/20\n",
      "10/10 [==============================] - 0s 28ms/step - loss: 0.0199\n",
      "Epoch 6/20\n",
      "10/10 [==============================] - 0s 30ms/step - loss: 0.0157\n",
      "Epoch 7/20\n",
      "10/10 [==============================] - 0s 28ms/step - loss: 0.0114\n",
      "Epoch 8/20\n",
      "10/10 [==============================] - 0s 37ms/step - loss: 0.0105\n",
      "Epoch 9/20\n",
      "10/10 [==============================] - 0s 33ms/step - loss: 0.0068\n",
      "Epoch 10/20\n",
      "10/10 [==============================] - 0s 37ms/step - loss: 0.0059\n",
      "Epoch 11/20\n",
      "10/10 [==============================] - 0s 35ms/step - loss: 0.0053\n",
      "Epoch 12/20\n",
      "10/10 [==============================] - 0s 35ms/step - loss: 0.0055\n",
      "Epoch 13/20\n",
      "10/10 [==============================] - 0s 31ms/step - loss: 0.0058\n",
      "Epoch 14/20\n",
      "10/10 [==============================] - 0s 36ms/step - loss: 0.0053\n",
      "Epoch 15/20\n",
      "10/10 [==============================] - 0s 21ms/step - loss: 0.0050\n",
      "Epoch 16/20\n",
      "10/10 [==============================] - 0s 37ms/step - loss: 0.0052\n",
      "Epoch 17/20\n",
      "10/10 [==============================] - 0s 28ms/step - loss: 0.0052\n",
      "Epoch 18/20\n",
      "10/10 [==============================] - 0s 28ms/step - loss: 0.0049\n",
      "Epoch 19/20\n",
      "10/10 [==============================] - 0s 28ms/step - loss: 0.0050\n",
      "Epoch 20/20\n",
      "10/10 [==============================] - 0s 28ms/step - loss: 0.0052\n"
     ]
    },
    {
     "data": {
      "text/plain": [
       "<keras.callbacks.History at 0x1a3c2da150>"
      ]
     },
     "execution_count": 46,
     "metadata": {},
     "output_type": "execute_result"
    }
   ],
   "source": [
    "model.fit_generator(my_gen, steps_per_epoch=10, epochs=20)"
   ]
  },
  {
   "cell_type": "code",
   "execution_count": 47,
   "metadata": {},
   "outputs": [],
   "source": [
    "y_pred = model.predict_generator(my_gen)"
   ]
  },
  {
   "cell_type": "code",
   "execution_count": 50,
   "metadata": {},
   "outputs": [
    {
     "data": {
      "text/plain": [
       "<matplotlib.legend.Legend at 0x1a3dcdde10>"
      ]
     },
     "execution_count": 50,
     "metadata": {},
     "output_type": "execute_result"
    },
    {
     "data": {
      "image/png": "[encoded data removed]",
      "text/plain": [
       "<Figure size 432x288 with 1 Axes>"
      ]
     },
     "metadata": {
      "needs_background": "light"
     },
     "output_type": "display_data"
    }
   ],
   "source": [
    "plt.plot(apple_high, label=\"original\")\n",
    "plt.plot(y_pred, label=\"pred\")\n",
    "plt.legend()"
   ]
  },
  {
   "cell_type": "code",
   "execution_count": 54,
   "metadata": {},
   "outputs": [
    {
     "data": {
      "text/plain": [
       "array([[0.9403244]], dtype=float32)"
      ]
     },
     "execution_count": 54,
     "metadata": {},
     "output_type": "execute_result"
    }
   ],
   "source": [
    "model.predict(apple_high[-5:].reshape(1,5,1))"
   ]
  },
  {
   "cell_type": "code",
   "execution_count": 60,
   "metadata": {},
   "outputs": [
    {
     "data": {
      "text/plain": [
       "array([[178.14530823]])"
      ]
     },
     "execution_count": 60,
     "metadata": {},
     "output_type": "execute_result"
    }
   ],
   "source": [
    "# Future Stocks\n",
    "scaler.inverse_transform(np.array(0.9403244).reshape(1,1))"
   ]
  },
  {
   "cell_type": "code",
   "execution_count": null,
   "metadata": {},
   "outputs": [],
   "source": []
  },
  {
   "cell_type": "code",
   "execution_count": null,
   "metadata": {},
   "outputs": [],
   "source": []
  }
 ],
 "metadata": {
  "kernelspec": {
   "display_name": "Python 3",
   "language": "python",
   "name": "python3"
  },
  "language_info": {
   "codemirror_mode": {
    "name": "ipython",
    "version": 3
   },
   "file_extension": ".py",
   "mimetype": "text/x-python",
   "name": "python",
   "nbconvert_exporter": "python",
   "pygments_lexer": "ipython3",
   "version": "3.7.4"
  }
 },
 "nbformat": 4,
 "nbformat_minor": 2
}
